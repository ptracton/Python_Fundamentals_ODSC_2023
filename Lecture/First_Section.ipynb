{
 "cells": [
  {
   "cell_type": "markdown",
   "id": "8de5e5fe-29c1-406b-ab73-60321ded9bc2",
   "metadata": {},
   "source": [
    "# Welcome to ODSC Europe 2023\n",
    "## [Fundamentals of Python](https://github.com/ptracton/Python_Fundamentals_ODSC_2023)\n",
    "\n",
    "\n",
    "This is a 3 hour course that is part of the [bootcamp](https://odsc.com/europe/bootcamp/).  This course will cover the fundamentals and get you started in this language.  It will not make you an expert and we will not be covering **MANY** topics.  \n",
    "\n",
    "The goals of this course are:\n",
    "1. Install Anaconda Python and Jupyter Lab\n",
    "2. Introduce the basic concepts\n",
    "3. Get you started with all of the needed basic features of the language\n",
    "4. Get you comfortable in Jupyter Lab\n"
   ]
  },
  {
   "cell_type": "markdown",
   "id": "d25134bf-04a8-4d8e-bdf5-6fdd48eaf639",
   "metadata": {
    "tags": []
   },
   "source": [
    "## Syllabus\n",
    "\n",
    "This class is broken up in 3 parts.  Each part is 30-45 minutes of lecture followed by a lab to practice the topics we just discussed.  Each lab is in a separate .ipynb file.  Solutions are also given.\n",
    "\n",
    "1.  First Section \n",
    "    1. Python Background\n",
    "    2. Numeric Types\n",
    "    3. Strings\n",
    "    4. Lists\n",
    "    5. Dictionaries\n",
    "    6. Lab\n",
    "2. Second Section\n",
    "    1. if/else\n",
    "    2. For Loops\n",
    "    3. Functions\n",
    "    4. Lab\n",
    "3. Third Section\n",
    "    1. import \n",
    "    2. Numpy/Matplotlib/Pandas\n",
    "    3. Lab\n",
    "    \n",
    "    "
   ]
  },
  {
   "cell_type": "markdown",
   "id": "46e810e2-5598-45f7-9b11-dbd0ff630711",
   "metadata": {},
   "source": [
    "# Introduction\n",
    "\n",
    "Instructor: Phil Tracton\n",
    "\n",
    "[BS in EE](http://www.ece.umd.edu) from [University of Maryland](http://www.umd.edu)\n",
    "\n",
    "[MS in EE](http://www.ecs.csun.edu/ece/index.html) from [California State University at Northridge](http://www.csun.edu)\n",
    "\n",
    "Works on embedded firmware and ASICs\n",
    "\n",
    "Employed at [Medtronic](http://www.medtronic.com) over 20 years\n",
    "\n",
    "Teaching at [UCLA Extension](https://uclaextension.edu/) over 10 years\n"
   ]
  },
  {
   "cell_type": "markdown",
   "id": "c67a95f5-1934-4dd1-a00b-545e3ef47f60",
   "metadata": {
    "tags": []
   },
   "source": [
    "# Background\n",
    "\n",
    "## What is Python\n",
    "* A programming language\n",
    "* Dynamically typed\n",
    "* Interpreted\n",
    "* Strongly object oriented\n",
    "\n",
    "## Language\n",
    "* [PEP](https://peps.python.org/) -- Python Enhancement Proposal\n",
    "* [PEP 20](https://peps.python.org/pep-0020/) Zen of Python is the philosophy of the language\n",
    "* [PEP 8](https://peps.python.org/pep-0008/) The official Style Guide for writing code in Python\n",
    "* Free \n",
    "* Open Source\n",
    "* Lots of libraries\n",
    "* Object Oriented\n",
    "* Duck Typing\n",
    "* White Space sensitive\n",
    "\n"
   ]
  },
  {
   "cell_type": "markdown",
   "id": "72013042-4211-4587-9368-c2fde123ecd5",
   "metadata": {},
   "source": [
    "# Comments\n",
    "\n",
    "There are single space comments that start with a \\#\n",
    "\n",
    "Multiline comments are in triple quotes \"\"\"   \"\"\""
   ]
  },
  {
   "cell_type": "markdown",
   "id": "fcb9231e-54ec-4aa4-81ba-9d1dcb473c39",
   "metadata": {},
   "source": [
    "\\# This is a single line comment\n",
    "\n",
    "\n",
    "    \"\"\" \n",
    "    This is a multi line\n",
    "    comment that can go on and on\n",
    "    and on......\n",
    "    \"\"\"\n",
    "    "
   ]
  },
  {
   "cell_type": "markdown",
   "id": "f9149ed3-a241-4e70-97d6-78db6b4dbc64",
   "metadata": {},
   "source": [
    "# Variables\n",
    "\n",
    "- PEP 8 Rules on [variable names](https://peps.python.org/pep-0008/#global-variable-names)\n",
    "- Create a variable with assignment\n",
    "- Variables are memory managed\n",
    "    - Variables are destroyed when out of scope\n",
    "\n",
    "## [F String](https://realpython.com/python-f-strings/)\n",
    "These are a new feature in Python 3.  They allow you to put the f in front of a string and then anything in the string that is inside {} get evaluated."
   ]
  },
  {
   "cell_type": "code",
   "execution_count": 1,
   "id": "fa8e54ec-bc6c-48c7-9849-aa76be9d1287",
   "metadata": {},
   "outputs": [
    {
     "name": "stdout",
     "output_type": "stream",
     "text": [
      "a = 5\n",
      "b = 5\n"
     ]
    }
   ],
   "source": [
    "a = 5\n",
    "b = a\n",
    "print(f\"a = {a}\")\n",
    "print(f\"b = {b}\")"
   ]
  },
  {
   "cell_type": "markdown",
   "id": "907fd863-1202-497d-a7c8-06415d711a55",
   "metadata": {},
   "source": [
    "# Duck Typing\n",
    "\n",
    "- \"If it walks like a duck and quacks like duck.... \"\n",
    "- No type checking unless absolutely necessary\n",
    "- Python will let you change teh data type of a variable at any time\n",
    "- The output from a division operations is a floating point number\n",
    "\n",
    "<div class=\"alert alert-block alert-danger\">\n",
    "<b>BE CAREFUL:</b> it is very easy to accidentally change the type of a variable.\n",
    "</div>\n"
   ]
  },
  {
   "cell_type": "code",
   "execution_count": 2,
   "id": "afd2507b-e9d0-41b7-8271-d406b30b8d26",
   "metadata": {},
   "outputs": [
    {
     "name": "stdout",
     "output_type": "stream",
     "text": [
      "<class 'int'>\n",
      "<class 'float'>\n",
      " B Type <class 'int'>, Division <class 'float'>\n"
     ]
    }
   ],
   "source": [
    "a = 5\n",
    "print(type(a))\n",
    "a = 5.\n",
    "print(type(a))\n",
    "b=10\n",
    "print(f\" B Type {type(b)}, Division {type(b/2)}\")"
   ]
  },
  {
   "cell_type": "markdown",
   "id": "83f718b3-76c9-45b5-bb94-6d6471fc102f",
   "metadata": {},
   "source": [
    "# [Numeric Types](https://docs.python.org/3/library/stdtypes.html#numeric-types-int-float-complex)\n",
    "\n",
    "Python supports integer, floating point and complex math.  \n",
    "\n",
    "## Integers\n",
    "- Unlimited precision\n",
    "- many built in functions\n",
    "- tools to convert formats"
   ]
  },
  {
   "cell_type": "markdown",
   "id": "242381c7-4bbf-4bf7-9b6c-ceb81c8d61a3",
   "metadata": {},
   "source": [
    "# Integer Operations\n",
    "\n",
    "| Code | Operation                                                           |\n",
    "|------|---------------------------------------------------------------------|\n",
    "| x+y  | Addition of x and y                                                 |\n",
    "| x-y  | Subtraction of x from y                                             |\n",
    "| x*y  | Multiplication of x and y                                           |\n",
    "| x/y  | Divide x by y and return a float                                    |\n",
    "| x//y | Divide x by y and truncate the fractional part to return an integer |\n",
    "| x%y  | Returns the modulus (remainder) of x divided by y                   |\n",
    "| x**y | Raises x to the power of y                                          |\n",
    "| -x   | Negates x                                                           |\n"
   ]
  },
  {
   "cell_type": "code",
   "execution_count": 3,
   "id": "1741da6b-3b0a-4f25-a12f-3fba56ff862a",
   "metadata": {},
   "outputs": [
    {
     "name": "stdout",
     "output_type": "stream",
     "text": [
      "x=5 y=-3\n",
      "x+y=2\n",
      "x-y=8\n",
      "x*y=-15\n",
      "x/y=-1.6666666666666667\n",
      "x%y=-1\n",
      "x**y=0.008\n"
     ]
    }
   ],
   "source": [
    "x = 5\n",
    "y = -3\n",
    "\n",
    "print(f\"x={x} y={y}\")\n",
    "print(f\"x+y={x+y}\")\n",
    "print(f\"x-y={x-y}\")\n",
    "print(f\"x*y={x*y}\")\n",
    "print(f\"x/y={x/y}\")\n",
    "print(f\"x%y={x%y}\")\n",
    "print(f\"x**y={x**y}\")"
   ]
  },
  {
   "cell_type": "markdown",
   "id": "bc7db6a1-6113-44c3-95da-ea8a371b1912",
   "metadata": {},
   "source": [
    "# Integer Methods\n",
    "\n",
    "| **Code**     | **Operation**                                                                 |\n",
    "|--------------|-------------------------------------------------------------------------------|\n",
    "| abs(x)       | Returns the absolute value of x                                               |\n",
    "| pow(x,y)     | Returns x rasied to the y                                                     |\n",
    "| divmod(x, y) | Returns the quotient and remainder of x divided by y as a tuple               |\n",
    "| round(x, n)  | Returns x rounded to n integeral digits                                       |\n",
    "| hex(x)       | Returns a string that is a hexadecimal repre- sentation of x, hex(30) =”0x1e” |"
   ]
  },
  {
   "cell_type": "code",
   "execution_count": 4,
   "id": "2219039e-a695-47db-b001-6c9a38168b57",
   "metadata": {},
   "outputs": [
    {
     "name": "stdout",
     "output_type": "stream",
     "text": [
      "abs(5) = 5\n",
      "abs(-3) = 3\n",
      "divmod(5, -3) = (-2, -1)\n",
      "pow(5, -3)=0.008\n",
      "round(5.12345, 2) = 5.12\n",
      "hex(100) = 0x64\n"
     ]
    }
   ],
   "source": [
    "print(f\"abs({x}) = {abs(x)}\")\n",
    "print(f\"abs({y}) = {abs(y)}\")\n",
    "print(f\"divmod({x}, {y}) = {divmod(x,y)}\")\n",
    "print(f\"pow({x}, {y})={pow(x,y)}\")\n",
    "print(f\"round(5.12345, 2) = {round(5.12345, 2)}\")\n",
    "print(f\"hex(100) = {hex(100)}\")"
   ]
  },
  {
   "cell_type": "markdown",
   "id": "c397cf71-bc43-4f4a-96f1-2c7ce90a8187",
   "metadata": {},
   "source": [
    "# Floating Point\n",
    "\n",
    "- Holds double precision variables\n",
    "- Range depends on compiler and platform\n",
    "- Float performs all the same operations as integers\n",
    "\n",
    "Floating point numbers are a very complicated topic.  They do not have perfect precision.  I recommend everyone read the website [What Every Programmer Should Know About Floating-Point Arithmetic](https://floating-point-gui.de/).  \n"
   ]
  },
  {
   "cell_type": "code",
   "execution_count": 5,
   "id": "718d060f-e9df-4fd2-a4a2-77cb4ff286c4",
   "metadata": {},
   "outputs": [
    {
     "name": "stdout",
     "output_type": "stream",
     "text": [
      "x=5.9 y=-3.1\n",
      "x+y=2.8000000000000003\n",
      "x-y=9.0\n",
      "x*y=-18.290000000000003\n",
      "x/y=-1.903225806451613\n",
      "x%y=-0.2999999999999998\n",
      "x**y=0.004077169473481131\n"
     ]
    }
   ],
   "source": [
    "x = 5.9\n",
    "y = -3.1\n",
    "\n",
    "print(f\"x={x} y={y}\")\n",
    "print(f\"x+y={x+y}\")\n",
    "print(f\"x-y={x-y}\")\n",
    "print(f\"x*y={x*y}\")\n",
    "print(f\"x/y={x/y}\")\n",
    "print(f\"x%y={x%y}\")\n",
    "print(f\"x**y={x**y}\")"
   ]
  },
  {
   "cell_type": "markdown",
   "id": "716513ad-da65-4b5a-8f32-008228f734dc",
   "metadata": {},
   "source": [
    "# Strings\n",
    "\n",
    "- [Python 3 Strings Documentation](https://docs.python.org/3/library/stdtypes.html#text-sequence-type-str)\n",
    "- Immutable sequence of Unicode characters\n",
    "- Arbitrary length\n",
    "- Support usual comparison operations\n",
    "- Can use single, double or tripple quotation marks to create a string"
   ]
  },
  {
   "cell_type": "code",
   "execution_count": 6,
   "id": "5bc226d5-3e30-4b80-8e72-702898a8c87d",
   "metadata": {},
   "outputs": [
    {
     "name": "stdout",
     "output_type": "stream",
     "text": [
      "This is a string1\n",
      "This is a string2\n",
      "This is a string3\n"
     ]
    }
   ],
   "source": [
    "string1_var = 'This is a string1'\n",
    "string2_var = \"This is a string2\"\n",
    "string3_var = '''This is a string3'''\n",
    "\n",
    "print(string1_var)\n",
    "print(string2_var)\n",
    "print(string3_var)"
   ]
  },
  {
   "cell_type": "markdown",
   "id": "a1547c3b-7e0c-461a-87ce-11afa71a9ad0",
   "metadata": {},
   "source": [
    "# String Operations\n",
    "\n",
    "There are a number of built in string operations that are good to know.\n",
    "\n",
    "| **Code**   | **Operation**                                                                   |\n",
    "|------------|---------------------------------------------------------------------------------|\n",
    "| s[x]       | Access index x in the string                                                    |\n",
    "| s[:x]      | Access from the start of the string to index s                                  |\n",
    "| s[x:]      | Access from index x to the end of the string                                    |\n",
    "| s[x:y]     | Access from index x to index y                                                  |\n",
    "| s[x:y:z]   | Access from index x to index y by steps of z                                    |\n",
    "| s1+s2      | Concatenation of 2 strings                                                      |\n",
    "| s*n        | Multiple a string n times, creates a new string with n copies of the old string |\n",
    "| len(s)     | length of string s                                                              |\n",
    "| c in s     | Returns a boolean True is c is in s                                             |\n",
    "| c not in s | Returns a boolean True if c is not in s                                         |"
   ]
  },
  {
   "cell_type": "code",
   "execution_count": 7,
   "id": "600442aa-c384-4f56-9d54-d13332d90a52",
   "metadata": {},
   "outputs": [
    {
     "name": "stdout",
     "output_type": "stream",
     "text": [
      "the quick brown fox jumps over the lazy dog\n",
      "t\n",
      "the quick\n",
      " brown fox jumps over the lazy dog\n",
      "h uc rw o \n",
      "the quick brown fox jumps over the lazy dogthe quick brown fox jumps over the lazy dog\n",
      "the quick brown fox jumps over the lazy dogthe quick brown fox jumps over the lazy dogthe quick brown fox jumps over the lazy dog\n",
      "43\n",
      "True\n",
      "False\n"
     ]
    }
   ],
   "source": [
    "s = \"the quick brown fox jumps over the lazy dog\"\n",
    "print(s)\n",
    "print(s[0])\n",
    "print(s[:9])\n",
    "print(s[9:])\n",
    "print(s[1:20:2])\n",
    "print(s+s)\n",
    "print(s*3)\n",
    "print(len(s))\n",
    "print(\"a\" in s)\n",
    "print(\"a\" not in s)"
   ]
  },
  {
   "cell_type": "markdown",
   "id": "6611f7dd-b076-4440-87cf-d2ea6681b35d",
   "metadata": {},
   "source": [
    "# String Methods\n",
    "\n",
    "There are a lot of built in [methods for strings](https://docs.python.org/3/library/stdtypes.html#string-methods).\n",
    "\n",
    "| **Code**                         | **Operation**                                           |\n",
    "|----------------------------------|---------------------------------------------------------|\n",
    "| str.capitalize()                 | Capitalize the first character                          |\n",
    "| str.join(iterable)               | Concatenate a list of strings                           |\n",
    "| str.lower()                      | Return the string as all lower case letters             |\n",
    "| str.split(sep=None, maxsplit=-1) | split the string into a list based on the sep delimiter |\n",
    "| str.strip([chars])               | Return a string with those characters removed           |"
   ]
  },
  {
   "cell_type": "code",
   "execution_count": 8,
   "id": "a5034c55-ff10-417d-aeb9-7bab74586458",
   "metadata": {},
   "outputs": [
    {
     "name": "stdout",
     "output_type": "stream",
     "text": [
      "The quick brown fox jumps over the lazy dog\n",
      "thisisaniterable\n",
      "this is all caps\n",
      "['the', 'quick', 'brown', 'fox', 'jumps', 'over', 'the', 'lazy', 'dog']\n",
      "he quick brown fox jumps over the lazy dog\n"
     ]
    }
   ],
   "source": [
    "print(s.capitalize())\n",
    "iterable = [\"this\", \"is\", \"an\", \"iterable\"]\n",
    "print(\"\".join(iterable))\n",
    "print(\"THIS IS ALL CAPS\".lower())\n",
    "print(s.split(\" \"))\n",
    "print(s.strip(\"t\"))"
   ]
  },
  {
   "cell_type": "markdown",
   "id": "246c640c-6c12-4cc2-ba66-51d70fccf614",
   "metadata": {},
   "source": [
    "# Lists\n",
    "\n",
    "This is one of the more interesting data structures built into Python.  Most languages do not have this built in and need to create something like this.\n",
    "\n",
    "A list is just what it sounds like.  It is a collection of objects that can be iterated over.\n",
    "\n",
    "- [Official Documentation](https://docs.python.org/3/library/stdtypes.html#lists)\n",
    "- List contains arbitrary objects\n",
    "- Mutable\n",
    "- Can be sorted"
   ]
  },
  {
   "cell_type": "code",
   "execution_count": 9,
   "id": "454cdd09-bb50-4b91-a140-58fbb983fc83",
   "metadata": {},
   "outputs": [
    {
     "name": "stdout",
     "output_type": "stream",
     "text": [
      "[]\n",
      "0\n",
      "<class 'list'>\n",
      "['a', 'b', 1, 2.3]\n",
      "4\n",
      "<class 'list'>\n"
     ]
    }
   ],
   "source": [
    "\n",
    "# Empty list\n",
    "my_list = []\n",
    "print(my_list)\n",
    "print(len(my_list))\n",
    "print(type(my_list))\n",
    "\n",
    "my_list = [\"a\", \"b\", 1, 2.3]\n",
    "print(my_list)\n",
    "print(len(my_list))\n",
    "print(type(my_list))"
   ]
  },
  {
   "cell_type": "markdown",
   "id": "56e54f05-307d-467c-a461-3d9ee1be96cd",
   "metadata": {},
   "source": [
    "# List Operations\n",
    "\n",
    "Notice this list is identical to the strings!\n",
    "\n",
    "| **Code**   | **Operation**                                                                   |\n",
    "|------------|---------------------------------------------------------------------------------|\n",
    "| s[x]       | Access index x in the list                                                      |\n",
    "| s[:x]      | Access from the start of the list to index s                                    |\n",
    "| s[x:]      | Access from index x to the end of the list                                      |\n",
    "| s[x:y]     | Access from index x to index y                                                  |\n",
    "| s[x:y:z]   | Access from index x to index y by steps of z                                    |\n",
    "| s1+s2      | Concatenation of 2 lists                                                        |\n",
    "| s*n        | Multiple a list n times, creates a new list with n copies of the old list       |\n",
    "| len(s)     | length of list s                                                              |\n",
    "| c in s     | Returns a boolean True is c is in s                                             |\n",
    "| c not in s | Returns a boolean True if c is not in s                                         |"
   ]
  },
  {
   "cell_type": "code",
   "execution_count": 10,
   "id": "bda9e16b-d41c-4729-9cfc-fb7cd87bc2e7",
   "metadata": {},
   "outputs": [
    {
     "name": "stdout",
     "output_type": "stream",
     "text": [
      "['the', 'quick', 'brown', 'fox', 'jumps', 'over', 'the', 'lazy', 'dog']\n",
      "the\n",
      "['the', 'quick', 'brown', 'fox', 'jumps', 'over', 'the', 'lazy', 'dog']\n",
      "[]\n",
      "['quick', 'fox', 'over', 'lazy']\n",
      "['the', 'quick', 'brown', 'fox', 'jumps', 'over', 'the', 'lazy', 'dog', 'the', 'quick', 'brown', 'fox', 'jumps', 'over', 'the', 'lazy', 'dog']\n",
      "['the', 'quick', 'brown', 'fox', 'jumps', 'over', 'the', 'lazy', 'dog', 'the', 'quick', 'brown', 'fox', 'jumps', 'over', 'the', 'lazy', 'dog', 'the', 'quick', 'brown', 'fox', 'jumps', 'over', 'the', 'lazy', 'dog']\n",
      "9\n",
      "True\n",
      "False\n"
     ]
    }
   ],
   "source": [
    "s = [\"the\", \"quick\", \"brown\", \"fox\", \"jumps\", \"over\", \"the\", \"lazy\", \"dog\"]\n",
    "print(s)\n",
    "print(s[0])\n",
    "print(s[:9])\n",
    "print(s[9:])\n",
    "print(s[1:20:2])\n",
    "print(s+s)\n",
    "print(s*3)\n",
    "print(len(s))\n",
    "print(\"the\" in s)\n",
    "print(\"the\" not in s)"
   ]
  },
  {
   "cell_type": "markdown",
   "id": "ba8d5efa-aadd-4679-aad1-d95f12463b15",
   "metadata": {},
   "source": [
    "# List Methods\n",
    "\n",
    "Once again like strings, lists have [many methods](https://docs.python.org/3/tutorial/datastructures.html#more-on-lists) that can be used on them.\n",
    "\n",
    "| **Code**         | **Operation**                                                                   |\n",
    "|------------------|---------------------------------------------------------------------------------|\n",
    "| list.append(x)   | add x onto the end of the list                                                  |\n",
    "| list.extend(L)   | extend the list with a new list L                                               |\n",
    "| list.insert(i,x) | insert x at position i in the list                                              |\n",
    "| list.pop(i)      | remove the item from the position i, if i is not specified remove the last item |\n",
    "| list.sort()      | sort the items in place                                                         |"
   ]
  },
  {
   "cell_type": "code",
   "execution_count": 11,
   "id": "0385dcd0-aa3f-435f-808a-b68db454541f",
   "metadata": {},
   "outputs": [
    {
     "name": "stdout",
     "output_type": "stream",
     "text": [
      "['the', 'quick', 'brown', 'fox', 'jumps', 'over', 'the', 'lazy', 'dog']\n",
      "['the', 'quick', 'brown', 'fox', 'jumps', 'over', 'the', 'lazy', 'dog', ['ZZZ', 'AAA']]\n",
      "['the', 'quick', 'brown', 'fox', 'jumps', 'over', 'the', 'lazy', 'dog']\n",
      "['the', 'quick', 'brown', 'fox', 'jumps', 'over', 'the', 'lazy', 'dog', 'a', 'b', 'b']\n",
      "['YES', 'the', 'quick', 'brown', 'fox', 'jumps', 'over', 'the', 'lazy', 'dog', 'a', 'b', 'b']\n",
      "['the', 'quick', 'brown', 'fox', 'jumps', 'over', 'the', 'lazy', 'dog', 'a', 'b', 'b']\n",
      "['a', 'b', 'b', 'brown', 'dog', 'fox', 'jumps', 'lazy', 'over', 'quick', 'the', 'the']\n"
     ]
    }
   ],
   "source": [
    "print(s)\n",
    "s.append([\"ZZZ\", \"AAA\"]) # List inside of a list!\n",
    "print(s)\n",
    "s.pop()\n",
    "print(s)\n",
    "s.extend([\"a\", \"b\", \"b\"])\n",
    "print(s)\n",
    "s.insert(0, \"YES\")\n",
    "print(s)\n",
    "s.pop(0)\n",
    "print(s)\n",
    "s.sort()\n",
    "print(s)"
   ]
  },
  {
   "cell_type": "markdown",
   "id": "893ab372-0886-45eb-8cee-25dfacd0087c",
   "metadata": {},
   "source": [
    "# Dictionaries\n",
    "\n",
    "This is one of the most interesting built in [data types](https://docs.python.org/3/library/stdtypes.html#mapping-types-dict) in python.  \n",
    "\n",
    "- Dictionaries contain arbitrary key/value pairs\n",
    "- Like an associative array\n",
    "- Keys must be unique and [hashable](https://docs.python.org/3/glossary.html#term-hashable)\n",
    "- Lookup is O(1)\n",
    "- No sorting order\n",
    "- Dictionary is mutable!"
   ]
  },
  {
   "cell_type": "markdown",
   "id": "e568afd6-c5ae-47a2-960c-0f042e69f8dd",
   "metadata": {},
   "source": [
    "# Dictionary Operations and Methods\n",
    "\n",
    "| **Code**       | **Operation**                                                  |\n",
    "|----------------|----------------------------------------------------------------|\n",
    "| len(d)         | Returns the number of key/value pairs                          |\n",
    "| value = d[key] | Returns the value for this key, an error if key does not exist |\n",
    "| d[key]=value   | Creates or replaces this key and associates this data with it  |\n",
    "| del d[k]       | Deletes this key/value                                         |\n",
    "| key in d       | Returns True if it is, False if it is not                      |\n",
    "| d.keys()       | Returns a list of keys                                         |\n",
    "| d.values       | Returns a list of values                                       |\n",
    "| d.items()      | Returns a list of key/value tuples                             |"
   ]
  },
  {
   "cell_type": "code",
   "execution_count": 12,
   "id": "df7c718a-1a09-449d-be01-bc2d98f9f99a",
   "metadata": {},
   "outputs": [
    {
     "name": "stdout",
     "output_type": "stream",
     "text": [
      "{}\n",
      "0\n",
      "<class 'dict'>\n",
      "{'a': 1, 'b': 2.0, 'c': [3, 4, 5]}\n",
      "3\n",
      "<class 'dict'>\n",
      "2.0\n",
      "{'a': 1, 'b': 2.0, 'c': [3, 4, 5], 'd': 'This is a new entry as a string'}\n",
      "dict_keys(['a', 'b', 'c', 'd'])\n",
      "dict_values([1, 2.0, [3, 4, 5], 'This is a new entry as a string'])\n",
      "dict_items([('a', 1), ('b', 2.0), ('c', [3, 4, 5]), ('d', 'This is a new entry as a string')])\n",
      "True\n",
      "False\n",
      "{'a': 1, 'b': 2.0, 'c': [3, 4, 5], 'd': 'This is a new entry as a string', 'another': {'first': 1}}\n"
     ]
    }
   ],
   "source": [
    "empty_dict = {}\n",
    "print(empty_dict)\n",
    "print(len(empty_dict))\n",
    "print(type(empty_dict))\n",
    "\n",
    "my_dict = {\"a\":1, \"b\":2.0, \"c\":[3,4,5]}\n",
    "print(my_dict)\n",
    "print(len(my_dict))\n",
    "print(type(my_dict))\n",
    "print(my_dict[\"b\"])\n",
    "my_dict[\"d\"] = \"This is a new entry as a string\"\n",
    "print(my_dict)\n",
    "print(my_dict.keys())\n",
    "print(my_dict.values())\n",
    "print(my_dict.items())\n",
    "\n",
    "print (\"b\" in my_dict)\n",
    "print(\"q\" in my_dict)\n",
    "\n",
    "another_dict = {\"first\": 1}\n",
    "my_dict[\"another\"] = another_dict\n",
    "print(my_dict)"
   ]
  },
  {
   "cell_type": "markdown",
   "id": "507a351d-b294-4991-a996-996fcfcbc44f",
   "metadata": {},
   "source": [
    "# Lab 1"
   ]
  },
  {
   "cell_type": "code",
   "execution_count": null,
   "id": "33903a1a-6a52-4e98-8b0e-46bcd8872a20",
   "metadata": {},
   "outputs": [],
   "source": []
  }
 ],
 "metadata": {
  "kernelspec": {
   "display_name": "Python 3 (ipykernel)",
   "language": "python",
   "name": "python3"
  },
  "language_info": {
   "codemirror_mode": {
    "name": "ipython",
    "version": 3
   },
   "file_extension": ".py",
   "mimetype": "text/x-python",
   "name": "python",
   "nbconvert_exporter": "python",
   "pygments_lexer": "ipython3",
   "version": "3.10.6"
  }
 },
 "nbformat": 4,
 "nbformat_minor": 5
}
