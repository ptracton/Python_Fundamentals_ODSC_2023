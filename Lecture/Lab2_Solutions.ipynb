{
 "cells": [
  {
   "cell_type": "markdown",
   "id": "6e6787c4-a536-4087-a6d5-d7f10d0b8842",
   "metadata": {},
   "source": [
    "# LAB 2"
   ]
  },
  {
   "cell_type": "markdown",
   "id": "18ac457a-5dd4-414f-a3b1-36e3fd6b9ffb",
   "metadata": {},
   "source": [
    "1. Write a function that reads in a text file and returns the list of strings in it\n",
    "2. Go through this list with a for loop and remove every other letter\n",
    "3. Write this out to a new file"
   ]
  },
  {
   "cell_type": "code",
   "execution_count": 2,
   "id": "95eb76ee-5d27-4d26-96d5-fff236738386",
   "metadata": {},
   "outputs": [],
   "source": [
    "def file_to_list(file_name = None):\n",
    "    if file_name is None:\n",
    "        return []\n",
    "    try:\n",
    "        f = open(file_name)\n",
    "        lines = f.readlines()\n",
    "        f.close()\n",
    "        return lines\n",
    "    except:\n",
    "        print(f\"Failed to read {file_name}\")\n",
    "        return []"
   ]
  },
  {
   "cell_type": "code",
   "execution_count": 15,
   "id": "7e95aec0-779f-47c6-b895-c3df7e783188",
   "metadata": {
    "tags": []
   },
   "outputs": [],
   "source": [
    "def list_to_file(file_name=None, my_list=None):\n",
    "    if file_name is None or my_list is None:\n",
    "        return\n",
    "    try:\n",
    "        f = open(file_name, \"w\")\n",
    "        for x in my_list:\n",
    "            f.write(f\"{x}\\n\")\n",
    "        f.flush()\n",
    "        f.close()\n",
    "    except:\n",
    "        print(f\"Failed to open for write {file_name}\")\n",
    "        return \n",
    "        "
   ]
  },
  {
   "cell_type": "code",
   "execution_count": 16,
   "id": "888e6dd1-bb8c-4758-9dca-2bfcab42e83e",
   "metadata": {
    "tags": []
   },
   "outputs": [],
   "source": [
    "my_lines = file_to_list(\"../docs/src/LICENSE.txt\")\n",
    "new_list = []\n",
    "for line in my_lines:\n",
    "    new_list.append(line[0::2])\n"
   ]
  },
  {
   "cell_type": "code",
   "execution_count": 17,
   "id": "a150ceaf-6a42-4c86-a3ed-39e7893ce19d",
   "metadata": {
    "tags": []
   },
   "outputs": [],
   "source": [
    "list_to_file(\"lab2.txt\", new_list)"
   ]
  },
  {
   "cell_type": "code",
   "execution_count": null,
   "id": "48d94cf7-97fa-49fe-ac2f-3168c6ab9b1b",
   "metadata": {},
   "outputs": [],
   "source": []
  }
 ],
 "metadata": {
  "kernelspec": {
   "display_name": "Python 3 (ipykernel)",
   "language": "python",
   "name": "python3"
  },
  "language_info": {
   "codemirror_mode": {
    "name": "ipython",
    "version": 3
   },
   "file_extension": ".py",
   "mimetype": "text/x-python",
   "name": "python",
   "nbconvert_exporter": "python",
   "pygments_lexer": "ipython3",
   "version": "3.10.6"
  }
 },
 "nbformat": 4,
 "nbformat_minor": 5
}
