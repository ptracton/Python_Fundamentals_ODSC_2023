{
 "cells": [
  {
   "cell_type": "markdown",
   "id": "8de5e5fe-29c1-406b-ab73-60321ded9bc2",
   "metadata": {},
   "source": [
    "# Welcome to ODSC Europe 2023\n",
    "## [Fundamentals of Python](https://github.com/ptracton/Python_Fundamentals_ODSC_2023)\n",
    "\n",
    "\n",
    "This is a 3 hour course that is part of the [bootcamp](https://odsc.com/europe/bootcamp/).  This course will cover the fundamentals and get you started in this language.  It will not make you an expert and we will not be covering **MANY** topics.  \n",
    "\n",
    "The goals of this course are:\n",
    "1. Install Anaconda Python and Jupyter Lab\n",
    "2. Introduce the basic concepts\n",
    "3. Get you started with all of the needed basic features of the language\n",
    "4. Get you comfortable in Jupyter Lab\n"
   ]
  },
  {
   "cell_type": "markdown",
   "id": "d25134bf-04a8-4d8e-bdf5-6fdd48eaf639",
   "metadata": {
    "tags": []
   },
   "source": [
    "## Syllabus\n",
    "\n",
    "This class is broken up in 3 parts.  Each part is 30-45 minutes of lecture followed by a lab to practice the topics we just discussed.  Each lab is in a separate .ipynb file.  Solutions are also given.\n",
    "\n",
    "1.  First Section \n",
    "    1. Python Background\n",
    "    2. Numeric Types\n",
    "    3. Strings\n",
    "    4. Lists/Tuples\n",
    "    5. Dictionaries\n",
    "    6. Lab\n",
    "2. Second Section\n",
    "    1. if/else\n",
    "    2. For Loops\n",
    "    3. Functions\n",
    "    4. Lab\n",
    "3. Third Section\n",
    "    1. import \n",
    "    2. try out libraries\n",
    "    3. Lab\n",
    "    \n",
    "    "
   ]
  },
  {
   "cell_type": "markdown",
   "id": "46e810e2-5598-45f7-9b11-dbd0ff630711",
   "metadata": {},
   "source": [
    "# Introduction\n",
    "\n",
    "Instructor: Phil Tracton\n",
    "\n",
    "[BS in EE](http://www.ece.umd.edu) from [University of Maryland](http://www.umd.edu)\n",
    "\n",
    "[MS in EE](http://www.ecs.csun.edu/ece/index.html) from [California State University at Northridge](http://www.csun.edu)\n",
    "\n",
    "Works on embedded software, FPGA, and ASICs\n",
    "\n",
    "Employed at [Medtronic](http://www.medtronic.com) over 20 years\n",
    "\n",
    "Teaching at [UCLA Extension](https://uclaextension.edu/) over 10 years\n"
   ]
  },
  {
   "cell_type": "markdown",
   "id": "c67a95f5-1934-4dd1-a00b-545e3ef47f60",
   "metadata": {
    "tags": []
   },
   "source": [
    "# Background\n",
    "\n",
    "## What is Python\n",
    "* A programming language\n",
    "* Dynamically typed\n",
    "* Interpreted\n",
    "* Strongly object oriented\n",
    "\n",
    "## Language\n",
    "* [PEP](https://peps.python.org/) -- Python Enhancement Proposal\n",
    "* [PEP 20](https://peps.python.org/pep-0020/) Zen of Python is the philosophy of the language\n",
    "* [PEP 8](https://peps.python.org/pep-0008/) The official Style Guide for writing code in Python\n",
    "* Free \n",
    "* Open Source\n",
    "* Lots of libraries\n",
    "* Object Oriented\n",
    "* Duck Typing\n",
    "* White Space sensitive\n",
    "\n"
   ]
  },
  {
   "cell_type": "markdown",
   "id": "83f718b3-76c9-45b5-bb94-6d6471fc102f",
   "metadata": {},
   "source": [
    "# [Numeric Types](https://docs.python.org/3/library/stdtypes.html#numeric-types-int-float-complex)\n",
    "\n",
    "Python supports integer, floating point and complex math.  "
   ]
  },
  {
   "cell_type": "code",
   "execution_count": 16,
   "id": "0048a6d9-7249-450d-87e4-b4f3ea198e68",
   "metadata": {},
   "outputs": [
    {
     "name": "stdout",
     "output_type": "stream",
     "text": [
      "x=5 y=-3\n",
      "x+y=2\n",
      "x-y=8\n",
      "x*y=-15\n",
      "x/y=-1.6666666666666667\n",
      "divmod(5, -3) = (-2, -1)\n",
      "pow(5, -3)=0.008\n",
      "abs(-3) = 3\n"
     ]
    }
   ],
   "source": [
    "x = 5\n",
    "y = -3\n",
    "\n",
    "# Single line comments are like this\n",
    "print(f\"x={x} y={y}\")\n",
    "print(f\"x+y={x+y}\")\n",
    "print(f\"x-y={x-y}\")\n",
    "print(f\"x*y={x*y}\")\n",
    "print(f\"x/y={x/y}\")\n",
    "print(f\"divmod({x}, {y}) = {divmod(x,y)}\")\n",
    "print(f\"pow({x}, {y})={pow(x,y)}\")\n",
    "print(f\"abs({y}) = {abs(y)}\")"
   ]
  },
  {
   "cell_type": "code",
   "execution_count": 17,
   "id": "1741da6b-3b0a-4f25-a12f-3fba56ff862a",
   "metadata": {},
   "outputs": [
    {
     "name": "stdout",
     "output_type": "stream",
     "text": [
      "x=5.1 y=-3.0\n",
      "x+y=2.0999999999999996\n",
      "x-y=8.1\n",
      "x*y=-15.299999999999999\n",
      "x/y=-1.7\n",
      "divmod(5.1, -3.0) = (-2.0, -0.9000000000000004)\n",
      "pow(5.1, -3.0)=0.0075385786763763575\n",
      "abs(-2) = 2\n"
     ]
    }
   ],
   "source": [
    "x = 5.1\n",
    "y = -3.\n",
    "\n",
    "\"\"\"\n",
    "Multiline \n",
    "comments look like\n",
    "this\n",
    "\"\"\"\n",
    "print(f\"x={x} y={y}\")\n",
    "print(f\"x+y={x+y}\")\n",
    "print(f\"x-y={x-y}\")\n",
    "print(f\"x*y={x*y}\")\n",
    "print(f\"x/y={x/y}\")\n",
    "print(f\"divmod({x}, {y}) = {divmod(x,y)}\")\n",
    "print(f\"pow({x}, {y})={pow(x,y)}\")\n",
    "print(f\"abs(-2) = {abs(-2)}\")"
   ]
  },
  {
   "cell_type": "markdown",
   "id": "716513ad-da65-4b5a-8f32-008228f734dc",
   "metadata": {},
   "source": [
    "# Strings"
   ]
  },
  {
   "cell_type": "markdown",
   "id": "246c640c-6c12-4cc2-ba66-51d70fccf614",
   "metadata": {},
   "source": [
    "# Lists"
   ]
  },
  {
   "cell_type": "markdown",
   "id": "893ab372-0886-45eb-8cee-25dfacd0087c",
   "metadata": {},
   "source": [
    "# Dictionaries"
   ]
  },
  {
   "cell_type": "markdown",
   "id": "507a351d-b294-4991-a996-996fcfcbc44f",
   "metadata": {},
   "source": [
    "# Lab"
   ]
  },
  {
   "cell_type": "code",
   "execution_count": null,
   "id": "33903a1a-6a52-4e98-8b0e-46bcd8872a20",
   "metadata": {},
   "outputs": [],
   "source": []
  }
 ],
 "metadata": {
  "kernelspec": {
   "display_name": "Python 3 (ipykernel)",
   "language": "python",
   "name": "python3"
  },
  "language_info": {
   "codemirror_mode": {
    "name": "ipython",
    "version": 3
   },
   "file_extension": ".py",
   "mimetype": "text/x-python",
   "name": "python",
   "nbconvert_exporter": "python",
   "pygments_lexer": "ipython3",
   "version": "3.10.6"
  }
 },
 "nbformat": 4,
 "nbformat_minor": 5
}
