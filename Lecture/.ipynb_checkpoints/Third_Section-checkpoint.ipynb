{
 "cells": [
  {
   "cell_type": "markdown",
   "id": "53a3b6dc-43f5-4f6b-a1da-1d0c856624c1",
   "metadata": {},
   "source": [
    "# Import\n",
    "\n",
    "* The [Python Import System](https://docs.python.org/3/reference/import.html)\n",
    "* This is how we bring in code from one module to another\n",
    "* Gain access to built in python libraries\n",
    "* Gain access to downloaded 3rd party libraries\n",
    "* Create your own to organize your code\n",
    "  "
   ]
  },
  {
   "cell_type": "code",
   "execution_count": 3,
   "id": "91f2cba4-b12e-4f8f-8f67-03c8280dc520",
   "metadata": {
    "tags": []
   },
   "outputs": [
    {
     "name": "stdout",
     "output_type": "stream",
     "text": [
      "2023-05-02 16:42:26.256065\n"
     ]
    }
   ],
   "source": [
    "import datetime\n",
    "print(datetime.datetime.now())"
   ]
  },
  {
   "cell_type": "markdown",
   "id": "8d254284-03db-4141-82b3-ebf4b113fab3",
   "metadata": {
    "tags": []
   },
   "source": [
    "# Numpy"
   ]
  },
  {
   "cell_type": "code",
   "execution_count": 13,
   "id": "2b508caa-0583-4732-abd0-91f6cf8adc53",
   "metadata": {
    "tags": []
   },
   "outputs": [
    {
     "data": {
      "text/plain": [
       "'1.21.5'"
      ]
     },
     "execution_count": 13,
     "metadata": {},
     "output_type": "execute_result"
    }
   ],
   "source": [
    "import numpy as np\n",
    "np.__version__"
   ]
  },
  {
   "cell_type": "code",
   "execution_count": null,
   "id": "95e70208-e7e0-490b-82f1-4dac21cdf573",
   "metadata": {},
   "outputs": [],
   "source": []
  },
  {
   "cell_type": "markdown",
   "id": "a6a66f15-d688-4895-b115-94f8f6ef2d42",
   "metadata": {},
   "source": [
    "# Matplotlib"
   ]
  },
  {
   "cell_type": "code",
   "execution_count": 32,
   "id": "332932c8-87a3-4630-b2f7-a90f970cee01",
   "metadata": {
    "tags": []
   },
   "outputs": [
    {
     "data": {
      "text/plain": [
       "'3.5.1'"
      ]
     },
     "execution_count": 32,
     "metadata": {},
     "output_type": "execute_result"
    }
   ],
   "source": [
    "import matplotlib\n",
    "import matplotlib.pyplot as plt\n",
    "import matplotlib.dates as mdates\n",
    "%matplotlib inline\n",
    "matplotlib.__version__"
   ]
  },
  {
   "cell_type": "code",
   "execution_count": null,
   "id": "686f1c57-d51e-4036-a994-04cacecde89c",
   "metadata": {},
   "outputs": [],
   "source": []
  },
  {
   "cell_type": "markdown",
   "id": "03021b94-8bf8-4e4d-98f5-38c3f4be97d9",
   "metadata": {},
   "source": [
    "# Pandas\n",
    "* [Pandas Library](https://pandas.pydata.org/)\n",
    "* Goal of being the high-level building block for doing practical, real world data analysis in Python\n",
    "* It's like having a spreadsheet tool built into python\n",
    "* Comes with extensive [documentation](https://pandas.pydata.org/docs/)\n",
    "* Has a quick [10 minute guide](https://pandas.pydata.org/docs/user_guide/10min.html#min)"
   ]
  },
  {
   "cell_type": "code",
   "execution_count": 5,
   "id": "bf502c0c-89d0-4f0e-85f5-2377a95c3165",
   "metadata": {
    "tags": []
   },
   "outputs": [
    {
     "data": {
      "text/plain": [
       "'1.3.5'"
      ]
     },
     "execution_count": 5,
     "metadata": {},
     "output_type": "execute_result"
    }
   ],
   "source": [
    "import pandas as pd\n",
    "pd.__version__"
   ]
  },
  {
   "cell_type": "markdown",
   "id": "f523354d-abf1-4500-a40f-e0e6b1a2f996",
   "metadata": {},
   "source": [
    "## Pandas DataSeries\n",
    "\n",
    "* [Documentation](https://pandas.pydata.org/docs/reference/series.html)\n",
    "* [Start Up](https://pandas.pydata.org/docs/user_guide/dsintro.html#series)\n",
    "* a one-dimensional labeled array capable of holding any data type\n",
    "* It's like numpy's ndarray structure"
   ]
  },
  {
   "cell_type": "code",
   "execution_count": 10,
   "id": "9b7a65cc-ff57-4158-880d-077dff1e8d8c",
   "metadata": {
    "tags": []
   },
   "outputs": [
    {
     "name": "stdout",
     "output_type": "stream",
     "text": [
      "Series = a    1.479403\n",
      "b   -0.389847\n",
      "c   -0.602948\n",
      "d    0.314099\n",
      "e   -0.489995\n",
      "dtype: float64 dtype = float64\n"
     ]
    }
   ],
   "source": [
    "s = pd.Series(np.random.randn(5), index=[\"a\", \"b\", \"c\", \"d\", \"e\"])\n",
    "print(f\"Series = {s} dtype = {s.dtype}\")"
   ]
  },
  {
   "cell_type": "code",
   "execution_count": 11,
   "id": "d4a65e53-acc1-4cc3-9461-1b8740bf697c",
   "metadata": {
    "tags": []
   },
   "outputs": [
    {
     "name": "stdout",
     "output_type": "stream",
     "text": [
      "1.479403020162384\n"
     ]
    }
   ],
   "source": [
    "print(s[\"a\"])"
   ]
  },
  {
   "cell_type": "code",
   "execution_count": 12,
   "id": "a1c80a78-95d3-4917-b024-2c068b6c95b7",
   "metadata": {
    "tags": []
   },
   "outputs": [
    {
     "data": {
      "text/plain": [
       "a    2.958806\n",
       "b   -0.779694\n",
       "c   -1.205896\n",
       "d    0.628198\n",
       "e   -0.979989\n",
       "dtype: float64"
      ]
     },
     "execution_count": 12,
     "metadata": {},
     "output_type": "execute_result"
    }
   ],
   "source": [
    "s*2"
   ]
  },
  {
   "cell_type": "markdown",
   "id": "3ba8e890-b825-4e68-ae44-1401d06d5c4d",
   "metadata": {},
   "source": [
    "## Pandas DataFrame\n",
    "\n",
    "* [Documentation](https://pandas.pydata.org/docs/reference/frame.html)\n",
    "* [Start Up](https://pandas.pydata.org/docs/user_guide/dsintro.html#dataframe)\n",
    "* This is the key data structure of pandas\n",
    "* a 2-dimensional labeled data structure with columns of potentially different types. \n",
    "* You can think of it like a spreadsheet or SQL table.\n",
    "* Can quickly load a csv file, [read_csv](https://pandas.pydata.org/docs/reference/api/pandas.read_csv.html)"
   ]
  },
  {
   "cell_type": "code",
   "execution_count": 15,
   "id": "0ef960f7-8acb-4618-8dc5-c9c038235433",
   "metadata": {
    "tags": []
   },
   "outputs": [],
   "source": [
    "stock_data_file = \"all_stocks_5yr.csv\"\n",
    "stock_data_frame = pd.read_csv(stock_data_file)"
   ]
  },
  {
   "cell_type": "markdown",
   "id": "ccf3455d-31f1-4fde-8e10-0aac6dc49ff0",
   "metadata": {},
   "source": [
    "The [info](https://pandas.pydata.org/docs/reference/api/pandas.DataFrame.info.html#pandas.DataFrame.info) method prints information about a DataFrame including the index dtype and columns, non-null values and memory usage."
   ]
  },
  {
   "cell_type": "code",
   "execution_count": 17,
   "id": "adb85614-309b-4ddf-9164-98f696cd4053",
   "metadata": {
    "tags": []
   },
   "outputs": [
    {
     "name": "stdout",
     "output_type": "stream",
     "text": [
      "<class 'pandas.core.frame.DataFrame'>\n",
      "RangeIndex: 619040 entries, 0 to 619039\n",
      "Data columns (total 7 columns):\n",
      " #   Column  Non-Null Count   Dtype  \n",
      "---  ------  --------------   -----  \n",
      " 0   date    619040 non-null  object \n",
      " 1   open    619029 non-null  float64\n",
      " 2   high    619032 non-null  float64\n",
      " 3   low     619032 non-null  float64\n",
      " 4   close   619040 non-null  float64\n",
      " 5   volume  619040 non-null  int64  \n",
      " 6   Name    619040 non-null  object \n",
      "dtypes: float64(4), int64(1), object(2)\n",
      "memory usage: 33.1+ MB\n"
     ]
    }
   ],
   "source": [
    "stock_data_frame.info()"
   ]
  },
  {
   "cell_type": "markdown",
   "id": "730c46c6-04f3-4395-a7d6-1f741d275347",
   "metadata": {},
   "source": [
    "The [columns](https://pandas.pydata.org/docs/reference/api/pandas.DataFrame.columns.html) field holds a list of the labels for the columns"
   ]
  },
  {
   "cell_type": "code",
   "execution_count": 19,
   "id": "0cbf52e0-39a9-45d7-b38b-7462d58c0f29",
   "metadata": {
    "tags": []
   },
   "outputs": [
    {
     "data": {
      "text/plain": [
       "Index(['date', 'open', 'high', 'low', 'close', 'volume', 'Name'], dtype='object')"
      ]
     },
     "execution_count": 19,
     "metadata": {},
     "output_type": "execute_result"
    }
   ],
   "source": [
    "stock_data_frame.columns"
   ]
  },
  {
   "cell_type": "markdown",
   "id": "bad053f3-618d-40ac-b1bf-671722871e42",
   "metadata": {},
   "source": [
    "The [head](https://pandas.pydata.org/docs/reference/api/pandas.DataFrame.head.html) method This function returns the first n rows for the object based on position. It is useful for quickly testing if your object has the right type of data in it."
   ]
  },
  {
   "cell_type": "code",
   "execution_count": 21,
   "id": "1be501bc-6143-415d-8c5b-48a920cadfe8",
   "metadata": {
    "tags": []
   },
   "outputs": [
    {
     "data": {
      "text/html": [
       "<div>\n",
       "<style scoped>\n",
       "    .dataframe tbody tr th:only-of-type {\n",
       "        vertical-align: middle;\n",
       "    }\n",
       "\n",
       "    .dataframe tbody tr th {\n",
       "        vertical-align: top;\n",
       "    }\n",
       "\n",
       "    .dataframe thead th {\n",
       "        text-align: right;\n",
       "    }\n",
       "</style>\n",
       "<table border=\"1\" class=\"dataframe\">\n",
       "  <thead>\n",
       "    <tr style=\"text-align: right;\">\n",
       "      <th></th>\n",
       "      <th>date</th>\n",
       "      <th>open</th>\n",
       "      <th>high</th>\n",
       "      <th>low</th>\n",
       "      <th>close</th>\n",
       "      <th>volume</th>\n",
       "      <th>Name</th>\n",
       "    </tr>\n",
       "  </thead>\n",
       "  <tbody>\n",
       "    <tr>\n",
       "      <th>0</th>\n",
       "      <td>2013-02-08</td>\n",
       "      <td>15.07</td>\n",
       "      <td>15.12</td>\n",
       "      <td>14.63</td>\n",
       "      <td>14.75</td>\n",
       "      <td>8407500</td>\n",
       "      <td>AAL</td>\n",
       "    </tr>\n",
       "    <tr>\n",
       "      <th>1</th>\n",
       "      <td>2013-02-11</td>\n",
       "      <td>14.89</td>\n",
       "      <td>15.01</td>\n",
       "      <td>14.26</td>\n",
       "      <td>14.46</td>\n",
       "      <td>8882000</td>\n",
       "      <td>AAL</td>\n",
       "    </tr>\n",
       "    <tr>\n",
       "      <th>2</th>\n",
       "      <td>2013-02-12</td>\n",
       "      <td>14.45</td>\n",
       "      <td>14.51</td>\n",
       "      <td>14.10</td>\n",
       "      <td>14.27</td>\n",
       "      <td>8126000</td>\n",
       "      <td>AAL</td>\n",
       "    </tr>\n",
       "    <tr>\n",
       "      <th>3</th>\n",
       "      <td>2013-02-13</td>\n",
       "      <td>14.30</td>\n",
       "      <td>14.94</td>\n",
       "      <td>14.25</td>\n",
       "      <td>14.66</td>\n",
       "      <td>10259500</td>\n",
       "      <td>AAL</td>\n",
       "    </tr>\n",
       "    <tr>\n",
       "      <th>4</th>\n",
       "      <td>2013-02-14</td>\n",
       "      <td>14.94</td>\n",
       "      <td>14.96</td>\n",
       "      <td>13.16</td>\n",
       "      <td>13.99</td>\n",
       "      <td>31879900</td>\n",
       "      <td>AAL</td>\n",
       "    </tr>\n",
       "    <tr>\n",
       "      <th>5</th>\n",
       "      <td>2013-02-15</td>\n",
       "      <td>13.93</td>\n",
       "      <td>14.61</td>\n",
       "      <td>13.93</td>\n",
       "      <td>14.50</td>\n",
       "      <td>15628000</td>\n",
       "      <td>AAL</td>\n",
       "    </tr>\n",
       "    <tr>\n",
       "      <th>6</th>\n",
       "      <td>2013-02-19</td>\n",
       "      <td>14.33</td>\n",
       "      <td>14.56</td>\n",
       "      <td>14.08</td>\n",
       "      <td>14.26</td>\n",
       "      <td>11354400</td>\n",
       "      <td>AAL</td>\n",
       "    </tr>\n",
       "    <tr>\n",
       "      <th>7</th>\n",
       "      <td>2013-02-20</td>\n",
       "      <td>14.17</td>\n",
       "      <td>14.26</td>\n",
       "      <td>13.15</td>\n",
       "      <td>13.33</td>\n",
       "      <td>14725200</td>\n",
       "      <td>AAL</td>\n",
       "    </tr>\n",
       "    <tr>\n",
       "      <th>8</th>\n",
       "      <td>2013-02-21</td>\n",
       "      <td>13.62</td>\n",
       "      <td>13.95</td>\n",
       "      <td>12.90</td>\n",
       "      <td>13.37</td>\n",
       "      <td>11922100</td>\n",
       "      <td>AAL</td>\n",
       "    </tr>\n",
       "    <tr>\n",
       "      <th>9</th>\n",
       "      <td>2013-02-22</td>\n",
       "      <td>13.57</td>\n",
       "      <td>13.60</td>\n",
       "      <td>13.21</td>\n",
       "      <td>13.57</td>\n",
       "      <td>6071400</td>\n",
       "      <td>AAL</td>\n",
       "    </tr>\n",
       "  </tbody>\n",
       "</table>\n",
       "</div>"
      ],
      "text/plain": [
       "         date   open   high    low  close    volume Name\n",
       "0  2013-02-08  15.07  15.12  14.63  14.75   8407500  AAL\n",
       "1  2013-02-11  14.89  15.01  14.26  14.46   8882000  AAL\n",
       "2  2013-02-12  14.45  14.51  14.10  14.27   8126000  AAL\n",
       "3  2013-02-13  14.30  14.94  14.25  14.66  10259500  AAL\n",
       "4  2013-02-14  14.94  14.96  13.16  13.99  31879900  AAL\n",
       "5  2013-02-15  13.93  14.61  13.93  14.50  15628000  AAL\n",
       "6  2013-02-19  14.33  14.56  14.08  14.26  11354400  AAL\n",
       "7  2013-02-20  14.17  14.26  13.15  13.33  14725200  AAL\n",
       "8  2013-02-21  13.62  13.95  12.90  13.37  11922100  AAL\n",
       "9  2013-02-22  13.57  13.60  13.21  13.57   6071400  AAL"
      ]
     },
     "execution_count": 21,
     "metadata": {},
     "output_type": "execute_result"
    }
   ],
   "source": [
    "stock_data_frame.head(10)"
   ]
  },
  {
   "cell_type": "markdown",
   "id": "136034bc-cf95-4769-b7ca-bbd4f4dd299d",
   "metadata": {},
   "source": [
    "The [query](https://pandas.pydata.org/docs/reference/api/pandas.DataFrame.query.html) method returns the specified columns"
   ]
  },
  {
   "cell_type": "code",
   "execution_count": 22,
   "id": "cad1ee4a-9aa5-4f20-b698-aa056fe3f518",
   "metadata": {
    "tags": []
   },
   "outputs": [],
   "source": [
    "def get_stock_by_symbol(name=None):\n",
    "    if name is None:\n",
    "        return None\n",
    "    # This is risky code!  What if the stock symbol passed in does not exist?\n",
    "    # Silently return an empty frame\n",
    "    return stock_data_frame.query(f\"Name == '{name}'\")"
   ]
  },
  {
   "cell_type": "code",
   "execution_count": 24,
   "id": "1357349d-4dce-4d03-a9ba-c08921614133",
   "metadata": {
    "tags": []
   },
   "outputs": [
    {
     "name": "stdout",
     "output_type": "stream",
     "text": [
      "              date      open     high      low    close   volume  Name\n",
      "251567  2014-03-27   568.000   568.00   552.92   558.46    13052  GOOG\n",
      "251568  2014-03-28   561.200   566.43   558.67   559.99    41003  GOOG\n",
      "251569  2014-03-31   566.890   567.00   556.93   556.97    10772  GOOG\n",
      "251570  2014-04-01   558.710   568.45   558.71   567.16     7932  GOOG\n",
      "251571  2014-04-02   565.106   604.83   562.19   567.00   146697  GOOG\n",
      "...            ...       ...      ...      ...      ...      ...   ...\n",
      "252537  2018-02-01  1162.610  1174.00  1157.52  1167.70  2412114  GOOG\n",
      "252538  2018-02-02  1122.000  1123.07  1107.28  1111.90  4857943  GOOG\n",
      "252539  2018-02-05  1090.600  1110.00  1052.03  1055.80  3798301  GOOG\n",
      "252540  2018-02-06  1027.180  1081.71  1023.14  1080.60  3447956  GOOG\n",
      "252541  2018-02-07  1081.540  1081.78  1048.26  1048.58  2369232  GOOG\n",
      "\n",
      "[975 rows x 7 columns]\n"
     ]
    }
   ],
   "source": [
    "stock = get_stock_by_symbol(name=\"GOOG\")\n",
    "print(stock)"
   ]
  },
  {
   "cell_type": "code",
   "execution_count": 28,
   "id": "daf5917b-ed04-4e02-954c-7e9f7da0341b",
   "metadata": {
    "tags": []
   },
   "outputs": [
    {
     "data": {
      "text/plain": [
       "open      7.253642e+02\n",
       "high      7.308222e+02\n",
       "low       7.194568e+02\n",
       "close     7.254034e+02\n",
       "volume    1.808414e+06\n",
       "dtype: float64"
      ]
     },
     "execution_count": 28,
     "metadata": {},
     "output_type": "execute_result"
    }
   ],
   "source": [
    "np.mean(stock)"
   ]
  },
  {
   "cell_type": "code",
   "execution_count": 30,
   "id": "a69c0f23-af8b-4e76-bee2-2a75c96234d4",
   "metadata": {
    "tags": []
   },
   "outputs": [
    {
     "data": {
      "text/plain": [
       "<AxesSubplot:>"
      ]
     },
     "execution_count": 30,
     "metadata": {},
     "output_type": "execute_result"
    },
    {
     "data": {
      "image/png": "[encoded data removed]",
      "text/plain": [
       "<Figure size 1000x400 with 1 Axes>"
      ]
     },
     "metadata": {},
     "output_type": "display_data"
    }
   ],
   "source": [
    "stock[\"close\"].plot(legend=True,figsize=(10,4))"
   ]
  },
  {
   "cell_type": "code",
   "execution_count": 82,
   "id": "6be750a1-898e-44d9-b798-7313e4414cbd",
   "metadata": {
    "tags": []
   },
   "outputs": [
    {
     "data": {
      "image/png": "[encoded data removed]",
      "text/plain": [
       "<Figure size 640x480 with 1 Axes>"
      ]
     },
     "metadata": {},
     "output_type": "display_data"
    }
   ],
   "source": [
    "plt.gca().xaxis.set_major_formatter(mdates.DateFormatter('%Y/%m/%d'))\n",
    "plt.gca().xaxis.set_major_locator(mdates.DayLocator(interval=90))\n",
    "plt.gcf().autofmt_xdate()\n",
    "plt.plot(pd.to_datetime(stock[\"date\"].values), stock[\"high\"].values)\n",
    "plt.plot(pd.to_datetime(stock[\"date\"].values), stock[\"low\"].values)\n",
    "plt.legend([\"high\", \"low\"])\n",
    "plt.xlabel(\"Dates\")\n",
    "plt.ylabel(\"Price ($)\")\n",
    "plt.title(f\"Stock High and Low of {stock['Name'].values[0]}\")\n",
    "plt.grid(True)"
   ]
  },
  {
   "cell_type": "code",
   "execution_count": null,
   "id": "0d3d76ae-98a1-4e35-93a5-1b900b91b13a",
   "metadata": {
    "tags": []
   },
   "outputs": [],
   "source": []
  },
  {
   "cell_type": "code",
   "execution_count": null,
   "id": "9739b989-8184-4865-bb35-52f842dcd494",
   "metadata": {},
   "outputs": [],
   "source": []
  },
  {
   "cell_type": "code",
   "execution_count": null,
   "id": "811e5a05-45cb-4ebb-8b57-0a4b029faa2d",
   "metadata": {},
   "outputs": [],
   "source": []
  }
 ],
 "metadata": {
  "kernelspec": {
   "display_name": "Python 3 (ipykernel)",
   "language": "python",
   "name": "python3"
  },
  "language_info": {
   "codemirror_mode": {
    "name": "ipython",
    "version": 3
   },
   "file_extension": ".py",
   "mimetype": "text/x-python",
   "name": "python",
   "nbconvert_exporter": "python",
   "pygments_lexer": "ipython3",
   "version": "3.10.6"
  }
 },
 "nbformat": 4,
 "nbformat_minor": 5
}
