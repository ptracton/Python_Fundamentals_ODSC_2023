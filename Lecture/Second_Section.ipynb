{
 "cells": [
  {
   "cell_type": "markdown",
   "id": "5b3db5b4-6019-46b0-b389-7096a9e88dbc",
   "metadata": {},
   "source": [
    "# If/Else"
   ]
  },
  {
   "cell_type": "markdown",
   "id": "33531b8b-5463-4177-8830-d9e9f98ce783",
   "metadata": {},
   "source": [
    "# For Loops"
   ]
  },
  {
   "cell_type": "markdown",
   "id": "85077bfc-0fbf-4d8d-9fcb-786cde5d0fe3",
   "metadata": {},
   "source": [
    "# Functions"
   ]
  },
  {
   "cell_type": "markdown",
   "id": "d5dc418a-f153-4bd0-967f-9121feb5b2bf",
   "metadata": {},
   "source": [
    "# File Handling"
   ]
  },
  {
   "cell_type": "code",
   "execution_count": null,
   "id": "26d1e572-6a8f-4e8c-81e3-b94d809149b9",
   "metadata": {},
   "outputs": [],
   "source": []
  }
 ],
 "metadata": {
  "kernelspec": {
   "display_name": "Python 3 (ipykernel)",
   "language": "python",
   "name": "python3"
  },
  "language_info": {
   "codemirror_mode": {
    "name": "ipython",
    "version": 3
   },
   "file_extension": ".py",
   "mimetype": "text/x-python",
   "name": "python",
   "nbconvert_exporter": "python",
   "pygments_lexer": "ipython3",
   "version": "3.10.6"
  }
 },
 "nbformat": 4,
 "nbformat_minor": 5
}
