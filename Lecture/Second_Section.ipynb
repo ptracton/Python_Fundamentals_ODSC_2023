{
 "cells": [
  {
   "cell_type": "markdown",
   "id": "5b3db5b4-6019-46b0-b389-7096a9e88dbc",
   "metadata": {},
   "source": [
    "# If/Else\n",
    "\n",
    "- [Official Documentation](https://docs.python.org/3/tutorial/controlflow.html#if-statements)\n",
    "- Changes the flow of the code\n",
    "- Logic must evaluate to a Boolean (True or False)\n",
    "- elif and else are optional"
   ]
  },
  {
   "cell_type": "code",
   "execution_count": 1,
   "id": "83d28a42-1886-4862-a25d-eee24c63e9c9",
   "metadata": {},
   "outputs": [
    {
     "name": "stdout",
     "output_type": "stream",
     "text": [
      "We are 4\n"
     ]
    }
   ],
   "source": [
    "x = 4\n",
    "if x == 4:\n",
    "    print(\"We are 4\")\n",
    "elif x == 5:\n",
    "    print(\"We are 5\")\n",
    "else:\n",
    "    print(\"Default to something else\")"
   ]
  },
  {
   "cell_type": "markdown",
   "id": "33531b8b-5463-4177-8830-d9e9f98ce783",
   "metadata": {},
   "source": [
    "# For Loops"
   ]
  },
  {
   "cell_type": "code",
   "execution_count": 2,
   "id": "02398ad0-0c8d-4b9a-a4b0-85b3318dd5c7",
   "metadata": {},
   "outputs": [
    {
     "name": "stdout",
     "output_type": "stream",
     "text": [
      "python\n",
      "java\n",
      "c\n",
      "lisp\n",
      "perl\n",
      "0\n",
      "1\n",
      "2\n",
      "3\n",
      "4\n",
      "5\n",
      "6\n",
      "7\n",
      "8\n",
      "9\n",
      "Done\n",
      "0\n",
      "1\n",
      "2\n",
      "3\n",
      "4\n",
      "5\n",
      "1 One\n",
      "2 Two\n",
      "3 Three\n"
     ]
    }
   ],
   "source": [
    "languages = [\"python\", \"java\", \"c\", \"lisp\", \"perl\"]\n",
    "for x in languages:\n",
    "    print(x)\n",
    "for x in range(10):\n",
    "    print(x)\n",
    "else:\n",
    "    print(\"Done\")\n",
    "for x in range(10):\n",
    "    print(x)\n",
    "    if x > 4:\n",
    "        break\n",
    "else:\n",
    "    print(\"Done\")                \n",
    "    \n",
    "my_dict = {1: \"One\", 2: \"Two\", 3: \"Three\"}\n",
    "for k, v in my_dict.items():\n",
    "    print(k, v)\n"
   ]
  },
  {
   "cell_type": "markdown",
   "id": "341bba75-97fe-4be7-b38b-bf640a98372a",
   "metadata": {},
   "source": [
    "# While Loops"
   ]
  },
  {
   "cell_type": "code",
   "execution_count": 3,
   "id": "7ca4498d-84e1-4b42-8b08-49acc4a33d4f",
   "metadata": {},
   "outputs": [
    {
     "name": "stdout",
     "output_type": "stream",
     "text": [
      "python\n",
      "java\n",
      "c\n",
      "lisp\n",
      "perl\n",
      "0\n",
      "1\n",
      "2\n",
      "3\n",
      "4\n",
      "5\n",
      "6\n",
      "7\n",
      "8\n",
      "9\n",
      "Done\n",
      "0\n",
      "Done\n",
      "1\n",
      "Done\n",
      "2\n",
      "Done\n",
      "3\n",
      "Done\n",
      "4\n"
     ]
    }
   ],
   "source": [
    "languages = [\"python\", \"java\", \"c\", \"lisp\", \"perl\"]\n",
    "count = 0\n",
    "while count < len(languages):\n",
    "    print(languages[count])\n",
    "    count += 1\n",
    "count = 0\n",
    "while count in range(10):\n",
    "    print(count)\n",
    "    count += 1\n",
    "else:\n",
    "    print(\"Done\")\n",
    "count = 0\n",
    "while count in range(10):\n",
    "    print(count)\n",
    "    count += 1\n",
    "    if count > 4:\n",
    "        break\n",
    "    else:\n",
    "        print(\"Done\")"
   ]
  },
  {
   "cell_type": "markdown",
   "id": "85077bfc-0fbf-4d8d-9fcb-786cde5d0fe3",
   "metadata": {},
   "source": [
    "# Functions\n",
    "\n",
    "- Functions are a way of breaking up the code into more manageable pieces.\n",
    "- There are 4 types of Functions\n",
    "  1. Global are available to everyone in the module\n",
    "  2. Local are functions inside of functions\n",
    "  3. Lambda are limited functions that are created just in time to use them\n",
    "  4. Methods are associated with a specific data type and part of Object Oriented Programming\n",
    "\n"
   ]
  },
  {
   "cell_type": "markdown",
   "id": "bdbfce40-31ef-4f4e-9a0c-a0e129576aad",
   "metadata": {},
   "source": [
    "# Names and DocStrings\n",
    "\n",
    "- PEP 8 rules on Function Names\n",
    "- Use good clear names for the functions, should indicate what the function does\n",
    "- Avoid abbreviations\n",
    "- Docstrings are comments that come right after the def line of the function. It should indicate what the function does and how to use it.\n",
    "- Docstrings have their own PEP, PEP 257\n",
    "- Although PEP 8 also has some thoughts"
   ]
  },
  {
   "cell_type": "markdown",
   "id": "86f3d758-847a-4b04-89db-748d5aed96e7",
   "metadata": {},
   "source": [
    "# Function Arguments\n",
    "\n",
    "- Does not type check\n",
    "    - you can manually check if you wish\n",
    "- All values are passed by reference immutable types can’t be modified by a function\n",
    "- Arguments are local variables\n",
    "- Arguments go out of scope when functions return\n",
    "- Without a return statement, the function returrns None"
   ]
  },
  {
   "cell_type": "markdown",
   "id": "e5aec12a-c1a9-45e4-b0f8-5d668065314e",
   "metadata": {},
   "source": [
    "# Default Arguments\n",
    "\n",
    "- Specify a default value for a function argument\n",
    "- If no value is given for this parameter when the function is called, the default value is used\n",
    "- This is very handy!"
   ]
  },
  {
   "cell_type": "markdown",
   "id": "2b9f0fbd-bd23-4514-bd18-9d1a2c0c2fd8",
   "metadata": {},
   "source": [
    "# Named Arguments\n",
    "\n",
    "- Use name arguments to comment the code (use good names!)\n",
    "- Can be used to skip arguments"
   ]
  },
  {
   "cell_type": "markdown",
   "id": "76047f75-0bf4-4b69-8e07-ba0021ba849b",
   "metadata": {},
   "source": [
    "# Psuedo code example\n",
    "\n",
    "def function_name ( optional parameters):\n",
    "\n",
    "\"\"\"\n",
    "Function doc string that explains how the function\n",
    "works\n",
    "\"\"\"\n",
    "\n",
    "... code goes here...\n",
    "\n",
    "return optional value here"
   ]
  },
  {
   "cell_type": "code",
   "execution_count": 4,
   "id": "1ddbdeaf-eea9-4361-967e-a306eaecd94f",
   "metadata": {},
   "outputs": [],
   "source": [
    "def function_example(param1=\"Hi\", param2=False):\n",
    "    \"\"\"\n",
    "    This is the function's doc string,\n",
    "    it is a comment that explains the\n",
    "    function and how to use it.\n",
    "\n",
    "    This function takes 2 parameters (param 1 and param2)\n",
    "    and prints them out.\n",
    "\n",
    "    EX: function_example(\"1\", \"One\")\n",
    "    \"\"\"\n",
    "    print(param1, param2)\n",
    "    return\n"
   ]
  },
  {
   "cell_type": "code",
   "execution_count": 5,
   "id": "03dac630-7758-4d72-842a-1aa80ff6da3c",
   "metadata": {},
   "outputs": [
    {
     "name": "stdout",
     "output_type": "stream",
     "text": [
      "Hi False\n",
      "1 One\n",
      "Hi there!\n",
      "Reverse order\n",
      "2 False\n"
     ]
    }
   ],
   "source": [
    "function_example()\n",
    "function_example(\"1\", \"One\")\n",
    "function_example(param2=\"there!\")\n",
    "function_example(param2=\"order\", param1=\"Reverse\")\n",
    "function_example(param1=2)\n"
   ]
  },
  {
   "cell_type": "markdown",
   "id": "b3cebbf5-8b95-4ea4-b0b8-eaa7436f20dd",
   "metadata": {},
   "source": [
    "# Try/Except\n",
    "\n",
    "- Exceptions are pythons way of handling errors\n",
    "- [Exception Documentation](https://docs.python.org/3/library/exceptions.html)\n",
    "- [Exception Tutorial](https://docs.python.org/3/tutorial/errors.html)\n",
    "- You must have try and except, all other elements are optional\n",
    "- Each exception block is tried in order\n",
    "- Use liberally and do not let errors go silently\n",
    "- A blank except: will catch any exception."
   ]
  },
  {
   "cell_type": "code",
   "execution_count": 6,
   "id": "873212c5-a662-4fb8-9330-20a55a626fa4",
   "metadata": {},
   "outputs": [
    {
     "name": "stdout",
     "output_type": "stream",
     "text": [
      "One\n",
      "Key Error\n",
      "Finally\n"
     ]
    }
   ],
   "source": [
    "def key_trigger(key=None):\n",
    "    d = {1: \"One\"}\n",
    "    return d[key]\n",
    "\n",
    "\n",
    "def trigger(x, y):\n",
    "    return x / y\n",
    "\n",
    "\n",
    "try:\n",
    "    print(key_trigger(1))\n",
    "    print(key_trigger())  # KeyError\n",
    "    print(trigger(1, 2))\n",
    "    print(trigger(1, 0))  # ZeroDivisionError\n",
    "except ZeroDivisionError as e:\n",
    "    print(\"Exception: %s\" % (e.args))\n",
    "except KeyError:\n",
    "    print(\"Key Error\")\n",
    "else:\n",
    "    print(\"All is well\")\n",
    "finally:\n",
    "    print(\"Finally\")\n"
   ]
  },
  {
   "cell_type": "markdown",
   "id": "d5dc418a-f153-4bd0-967f-9121feb5b2bf",
   "metadata": {},
   "source": [
    "# File Handling"
   ]
  },
  {
   "cell_type": "code",
   "execution_count": 7,
   "id": "26d1e572-6a8f-4e8c-81e3-b94d809149b9",
   "metadata": {},
   "outputs": [
    {
     "name": "stdout",
     "output_type": "stream",
     "text": [
      "===================================\n",
      "\n",
      "Anaconda END USER LICENSE AGREEMENT\n",
      "\n",
      "===================================\n",
      "\n",
      "Anaconda (\"the Software Product\") and accompanying documentation is licensed and not sold. The Software Product is protected by copyright laws and treaties, as well as laws and treaties related to other forms of intellectual property. Continuum Analytics Inc or its subsidiaries, affiliates, and suppliers (collectively \"Continuum \") own intellectual property rights in the Software Product. The Licensee's (\"you\" or \"your\") license to download, use, copy, or change the Software Product is subject to these rights and to all the terms and conditions of this End User License Agreement (\"Agreement\").\n",
      "\n",
      "\n",
      "\n",
      "In addition to Continuum-licensed software, the Software product contains a collection of software packages from other sources (\"Other Vendor Tools\").   Continuum may also distribute updates to these packages on an \"as is\" basis and subject to their individual license agreements.   These licenses are available either in the package itself or via request to info@continuum.io.   Continuum reserves the right to change which Other Vendor Tools are provided in Anaconda.\n",
      "\n",
      "\n",
      "\n",
      "Attribution License\n",
      "\n",
      "===================\n",
      "\n",
      "Redistribution and derivative use of Anaconda, with or without modification, in source or binary form is explicitly permitted provided that:\n",
      "\n",
      "\n",
      "\n",
      "    1. You include a copy of this EULA in all copies of the derived software.\n",
      "\n",
      "    2. In advertising and labeling material for products built with Anaconda you mention that your product either includes or derives from Anaconda.  \"Powered by Anaconda\" is the suggested phrase.\n",
      "\n",
      "\n",
      "\n",
      "\n",
      "\n",
      "Export Regulations\n",
      "\n",
      "==================\n",
      "\n",
      "Any use or distribution of Anaconda is made under conditions that the user and/or distributor is in full compliance with all export and other governing laws of the United States of America, including full and ongoing compliance with the Export Administration Regulations (EAR) of the United States Department of Commerce. See www.commerce.gov/ and\n",
      "\n",
      "http://www.bis.doc.gov/index.php/regulations/export-administration-regulations-ear.  Use or distribution of Continuum software products to any persons, entities or countries currently under US sanctions is strictly prohibited.   Anaconda is classified with an ECCN of 5D992 with no license required for export to non-embargoed countires.\n",
      "\n",
      "\n",
      "\n",
      "The United States currently has embargoes against Cuba, Iran, North Korea, Sudan and Syria. The exportation, re-exportation, sale or supply, directly or indirectly, from the United States, or by a U.S. person wherever located, of any Continuum software to any of these countries is strictly prohibited without prior authorization by the United States Government  By accepting this Agreement, you represent to Continuum that you will comply with all applicable export regulations for Anaconda.\n",
      "\n",
      "\n",
      "\n",
      "No Implied Warranty or Fitness for Any Use\n",
      "\n",
      "==========================================\n",
      "\n",
      "THIS SOFTWARE IS PROVIDED BY THE COPYRIGHT HOLDERS AND CONTRIBUTORS \"AS IS\" AND ANY EXPRESS OR IMPLIED WARRANTIES, INCLUDING, BUT NOT LIMITED TO, THE IMPLIED WARRANTIES OF MERCHANTABILITY AND FITNESS FOR A PARTICULAR PURPOSE ARE DISCLAIMED. IN NO EVENT SHALL THE COPYRIGHT HOLDER OR CONTRIBUTORS BE LIABLE FOR ANY DIRECT, INDIRECT, INCIDENTAL, SPECIAL, EXEMPLARY, OR CONSEQUENTIAL DAMAGES (INCLUDING, BUT NOT LIMITED TO, PROCUREMENT OF SUBSTITUTE GOODS OR SERVICES; LOSS OF USE, DATA, OR PROFITS; OR BUSINESS INTERRUPTION) HOWEVER CAUSED AND ON ANY THEORY OF LIABILITY, WHETHER IN CONTRACT, STRICT LIABILITY, OR TORT (INCLUDING NEGLIGENCE OR OTHERWISE) ARISING IN ANY WAY OUT OF THE USE OF THIS SOFTWARE, EVEN IF ADVISED OF THE POSSIBILITY OF SUCH DAMAGE\n",
      "\n"
     ]
    }
   ],
   "source": [
    "# Good for SMALL files\n",
    "try:\n",
    "    f = open(\"../docs/src/LICENSE.txt\")\n",
    "    lines = f.readlines()\n",
    "    f.close()\n",
    "except:\n",
    "    print(\"Failed\")\n",
    "    \n",
    "for x in lines:\n",
    "    print(x)\n",
    "\n",
    "#\n",
    "# Shorter version\n",
    "#\n",
    "#for line in open(\"LICENSE.txt\"):\n",
    "#    print(line)"
   ]
  },
  {
   "cell_type": "code",
   "execution_count": 8,
   "id": "a38326fc-8c78-4962-b802-f2fcfec38d45",
   "metadata": {},
   "outputs": [],
   "source": [
    "try:\n",
    "    f = open(\"example.txt\", \"w\")\n",
    "except:\n",
    "    print(\"Failed to open for write\")\n",
    "f.write(\"Put this string in the file\\n\")\n",
    "f.writelines([\"String 1\\n\", \"String 2\\n\"])\n",
    "f.flush()\n",
    "f.close()\n"
   ]
  },
  {
   "cell_type": "code",
   "execution_count": 9,
   "id": "8d52ee76-b27c-4819-bd52-2acbea2188c8",
   "metadata": {},
   "outputs": [
    {
     "name": "stdout",
     "output_type": "stream",
     "text": [
      "example.txt          Lab1.ipynb            Third_Section.ipynb\n",
      "First_Section.ipynb  Second_Section.ipynb\n"
     ]
    }
   ],
   "source": [
    "ls"
   ]
  },
  {
   "cell_type": "code",
   "execution_count": 10,
   "id": "7ff41bd7-3075-4b18-97d0-5e1b5b22cfe2",
   "metadata": {},
   "outputs": [
    {
     "data": {
      "text/plain": [
       "Put this string in the file\n",
       "String 1\n",
       "String 2\n"
      ]
     },
     "metadata": {},
     "output_type": "display_data"
    }
   ],
   "source": [
    "more example.txt"
   ]
  },
  {
   "cell_type": "code",
   "execution_count": null,
   "id": "725b0213-ad32-47be-a3f4-5e8e65c34531",
   "metadata": {},
   "outputs": [],
   "source": []
  }
 ],
 "metadata": {
  "kernelspec": {
   "display_name": "Python 3 (ipykernel)",
   "language": "python",
   "name": "python3"
  },
  "language_info": {
   "codemirror_mode": {
    "name": "ipython",
    "version": 3
   },
   "file_extension": ".py",
   "mimetype": "text/x-python",
   "name": "python",
   "nbconvert_exporter": "python",
   "pygments_lexer": "ipython3",
   "version": "3.10.6"
  }
 },
 "nbformat": 4,
 "nbformat_minor": 5
}
