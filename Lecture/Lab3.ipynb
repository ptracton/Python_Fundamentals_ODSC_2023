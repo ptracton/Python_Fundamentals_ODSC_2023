{
 "cells": [
  {
   "cell_type": "markdown",
   "id": "164ab7ed-d7b3-4105-b93a-90617664f2b0",
   "metadata": {
    "tags": []
   },
   "source": [
    "# Lab 3"
   ]
  },
  {
   "cell_type": "markdown",
   "id": "71937cac-503f-412a-b00c-5b7e2b4621b0",
   "metadata": {},
   "source": [
    "1. Using the all_stocks_5yr.csv file, read it into a DataFrame\n",
    "2. Plot multiple different companies stock values in a single plot\n",
    "3. Find the maximum difference between these's 2 stocks values"
   ]
  },
  {
   "cell_type": "code",
   "execution_count": null,
   "id": "64659d8f-2b20-4b0c-ab62-d2a17943b017",
   "metadata": {},
   "outputs": [],
   "source": []
  }
 ],
 "metadata": {
  "kernelspec": {
   "display_name": "Python 3 (ipykernel)",
   "language": "python",
   "name": "python3"
  },
  "language_info": {
   "codemirror_mode": {
    "name": "ipython",
    "version": 3
   },
   "file_extension": ".py",
   "mimetype": "text/x-python",
   "name": "python",
   "nbconvert_exporter": "python",
   "pygments_lexer": "ipython3",
   "version": "3.10.6"
  }
 },
 "nbformat": 4,
 "nbformat_minor": 5
}
