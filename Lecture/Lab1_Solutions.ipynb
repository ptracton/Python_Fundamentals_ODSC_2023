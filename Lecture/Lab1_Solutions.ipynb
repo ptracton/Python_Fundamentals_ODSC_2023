{
 "cells": [
  {
   "cell_type": "markdown",
   "id": "fbc1d66d-2594-4ee1-a2f0-6fab1e601d2d",
   "metadata": {},
   "source": [
    "# LAB 1"
   ]
  },
  {
   "cell_type": "markdown",
   "id": "84eb76f5-4bf1-4416-a724-ffa3ef6b9250",
   "metadata": {},
   "source": [
    "## Numeric Types and Variables\n",
    "\n",
    "For this part of the lab you will be creating and operating on numeric variables.  This is meant to cement your understanding of basic math work in python.\n",
    "\n",
    "Implement the following:\n",
    "\n",
    "1. Create both an integer and floating point variable\n",
    "2. Demonstrate basic numeric operations on both types\n",
    "3. Demonstrate using several methods on the numeric types\n",
    "4. Comment your code!"
   ]
  },
  {
   "cell_type": "code",
   "execution_count": 3,
   "id": "2cba5a31-e46c-4b21-a6db-a290ddd0d0be",
   "metadata": {
    "tags": []
   },
   "outputs": [
    {
     "data": {
      "text/plain": [
       "(1, 1.0, 1)"
      ]
     },
     "execution_count": 3,
     "metadata": {},
     "output_type": "execute_result"
    }
   ],
   "source": [
    "# These are the basic numeric types\n",
    "a = 1\n",
    "b = 1.0\n",
    "\n",
    "x = abs(-1)\n",
    "\n",
    "a,b,x"
   ]
  },
  {
   "cell_type": "markdown",
   "id": "f8111a74-35d0-4dba-9d9e-353e77ba2b6d",
   "metadata": {},
   "source": [
    "## Strings\n",
    "\n",
    "For this part of the lab you will create a new string variable and operate on it.\n",
    "\n",
    "1. Create a variable that holds a string\n",
    "2. Find the length of the string using the len() function.\n",
    "3. Use several operators on the string\n",
    "4. Use several string methods to modify the string"
   ]
  },
  {
   "cell_type": "code",
   "execution_count": 8,
   "id": "f028b935-118c-4a36-aee6-cd521e8a878e",
   "metadata": {
    "tags": []
   },
   "outputs": [
    {
     "name": "stdout",
     "output_type": "stream",
     "text": [
      "17\n",
      "['This', 'is', 'my', 'string']\n",
      "hsi ysr\n"
     ]
    }
   ],
   "source": [
    "string = \"This is my string\"\n",
    "print(len(string))\n",
    "print(string.split(\" \"))\n",
    "print(string[1:15:2])"
   ]
  },
  {
   "cell_type": "markdown",
   "id": "577d4427-8bb8-4195-ae69-ae1d8ad0c777",
   "metadata": {},
   "source": [
    "## Lists\n",
    "\n",
    "For this part of the lab you will create a new list variable and operate on it.\n",
    "\n",
    "1. Create a variable that holds a list\n",
    "2. Find the length of the list using the len() function.\n",
    "3. Use several operators on the list\n",
    "4. Use several string methods to modify the list"
   ]
  },
  {
   "cell_type": "code",
   "execution_count": 14,
   "id": "1e0a4ebf-f651-410d-b36b-645681b17399",
   "metadata": {
    "tags": []
   },
   "outputs": [
    {
     "name": "stdout",
     "output_type": "stream",
     "text": [
      "3\n",
      "[1, 2.3, 'a', 'd', 's', 'f', 'a', 'd', 'f']\n"
     ]
    }
   ],
   "source": [
    "my_list = [1, 2.3, \"string\"]\n",
    "print(len(my_list))\n",
    "my_list.extend(\"adsfadf\")\n",
    "my_list.pop(2)\n",
    "print(my_list)"
   ]
  },
  {
   "cell_type": "markdown",
   "id": "a9f6cfd3-ce71-497c-990c-7e90fd6307ef",
   "metadata": {},
   "source": [
    "## Dictionaries\n",
    "\n",
    "For this part of the lab you will create a new list variable and operate on it.\n",
    "\n",
    "1. Create a variable that holds a dictionary\n",
    "2. Find the length of the dictionary using the len() function.\n",
    "3. Use several operators on the dictionary\n",
    "4. Use several methods to modify the dictionary"
   ]
  },
  {
   "cell_type": "code",
   "execution_count": 17,
   "id": "18923c90-cdd4-4b62-b672-c0f02b3f574e",
   "metadata": {
    "tags": []
   },
   "outputs": [
    {
     "name": "stdout",
     "output_type": "stream",
     "text": [
      "1\n",
      "dict_keys(['key', 'New'])\n",
      "{'key': 1, 'New': 1}\n"
     ]
    }
   ],
   "source": [
    "my_dict = {'key':1}\n",
    "print(len(my_dict))\n",
    "my_dict[\"New\"]= 1\n",
    "print(my_dict.keys())\n",
    "print(my_dict)"
   ]
  },
  {
   "cell_type": "code",
   "execution_count": null,
   "id": "c72eba4f-d385-4f4c-aa11-bd3fd4e43b4f",
   "metadata": {},
   "outputs": [],
   "source": []
  }
 ],
 "metadata": {
  "kernelspec": {
   "display_name": "Python 3 (ipykernel)",
   "language": "python",
   "name": "python3"
  },
  "language_info": {
   "codemirror_mode": {
    "name": "ipython",
    "version": 3
   },
   "file_extension": ".py",
   "mimetype": "text/x-python",
   "name": "python",
   "nbconvert_exporter": "python",
   "pygments_lexer": "ipython3",
   "version": "3.10.6"
  }
 },
 "nbformat": 4,
 "nbformat_minor": 5
}
