{
 "cells": [
  {
   "cell_type": "markdown",
   "id": "6e6787c4-a536-4087-a6d5-d7f10d0b8842",
   "metadata": {},
   "source": [
    "# LAB 2"
   ]
  },
  {
   "cell_type": "markdown",
   "id": "18ac457a-5dd4-414f-a3b1-36e3fd6b9ffb",
   "metadata": {},
   "source": [
    "1. Write a function that reads in a text file and returns the list of strings in it\n",
    "2. Go through this list with a for loop and remove every other letter\n",
    "3. Write this out to a new file"
   ]
  },
  {
   "cell_type": "code",
   "execution_count": null,
   "id": "b21b44cc-ba3f-4ad5-8152-274bee544ae9",
   "metadata": {},
   "outputs": [],
   "source": []
  }
 ],
 "metadata": {
  "kernelspec": {
   "display_name": "Python 3 (ipykernel)",
   "language": "python",
   "name": "python3"
  },
  "language_info": {
   "codemirror_mode": {
    "name": "ipython",
    "version": 3
   },
   "file_extension": ".py",
   "mimetype": "text/x-python",
   "name": "python",
   "nbconvert_exporter": "python",
   "pygments_lexer": "ipython3",
   "version": "3.10.6"
  }
 },
 "nbformat": 4,
 "nbformat_minor": 5
}
